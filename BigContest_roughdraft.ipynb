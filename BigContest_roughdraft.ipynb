{
 "cells": [
  {
   "cell_type": "markdown",
   "metadata": {},
   "source": [
    "## 2020빅콘테스트 - 챔스리그 "
   ]
  },
  {
   "cell_type": "markdown",
   "metadata": {},
   "source": [
    "### NS SHOP+ 판매실적 예측을 통한 편성 최적화 방안(모형) 도출\n",
    "\n",
    "NS Shop+편성데이터(NS홈쇼핑) 를 활용하여 방송편성표에 따른 판매실적을 예측하고, 최적 수익을 고려한 요일별/ 시간대별 / 카테고리별 편성, 최적화 방안(모형) 제시\n",
    "\n"
   ]
  },
  {
   "cell_type": "code",
   "execution_count": 1,
   "metadata": {},
   "outputs": [
    {
     "name": "stdout",
     "output_type": "stream",
     "text": [
      "64\n"
     ]
    }
   ],
   "source": [
    "import struct\n",
    "print(struct.calcsize(\"P\") * 8) \n",
    "# 파이썬 몇bit인지 확인할 수 있다. "
   ]
  },
  {
   "cell_type": "code",
   "execution_count": 2,
   "metadata": {},
   "outputs": [],
   "source": [
    "import pandas as pd\n",
    "import numpy as np\n",
    "\n",
    "\n",
    "import matplotlib.pyplot as plt\n",
    "import seaborn as sns\n",
    "import warnings\n",
    "\n",
    "from datetime import datetime \n",
    "from datetime import timedelta"
   ]
  },
  {
   "cell_type": "code",
   "execution_count": 3,
   "metadata": {},
   "outputs": [],
   "source": [
    "# !pip install tensorflow\n",
    "# !pip install keras"
   ]
  },
  {
   "cell_type": "code",
   "execution_count": 4,
   "metadata": {},
   "outputs": [],
   "source": [
    "# pd.set_option('display.max_rows', None)\n",
    "# pd.set_option('display.max_columns', None)"
   ]
  },
  {
   "cell_type": "code",
   "execution_count": 5,
   "metadata": {},
   "outputs": [],
   "source": [
    "sales = pd.read_excel(\"C:/Users/jenny/Desktop/빅콘/2020빅콘테스트 문제데이터(데이터분석분야-챔피언리그)/01_제공데이터/sales.xlsx\",header= 1)\n",
    "tvrates = pd.read_excel(\"C:/Users/jenny/Desktop/빅콘/2020빅콘테스트 문제데이터(데이터분석분야-챔피언리그)/01_제공데이터/tvrates.xlsx\", header = 1)\n",
    "test = pd.read_excel(\"C:/Users/jenny/Desktop/빅콘/2020빅콘테스트 문제데이터(데이터분석분야-챔피언리그)/02_평가데이터/test.xlsx\", header =1)"
   ]
  },
  {
   "cell_type": "code",
   "execution_count": 6,
   "metadata": {},
   "outputs": [
    {
     "data": {
      "text/html": [
       "<div>\n",
       "<style scoped>\n",
       "    .dataframe tbody tr th:only-of-type {\n",
       "        vertical-align: middle;\n",
       "    }\n",
       "\n",
       "    .dataframe tbody tr th {\n",
       "        vertical-align: top;\n",
       "    }\n",
       "\n",
       "    .dataframe thead th {\n",
       "        text-align: right;\n",
       "    }\n",
       "</style>\n",
       "<table border=\"1\" class=\"dataframe\">\n",
       "  <thead>\n",
       "    <tr style=\"text-align: right;\">\n",
       "      <th></th>\n",
       "      <th>방송일시</th>\n",
       "      <th>노출(분)</th>\n",
       "      <th>마더코드</th>\n",
       "      <th>상품코드</th>\n",
       "      <th>상품명</th>\n",
       "      <th>상품군</th>\n",
       "      <th>판매단가</th>\n",
       "      <th>취급액</th>\n",
       "    </tr>\n",
       "  </thead>\n",
       "  <tbody>\n",
       "    <tr>\n",
       "      <th>0</th>\n",
       "      <td>2019-01-01 06:00:00</td>\n",
       "      <td>20.0</td>\n",
       "      <td>100346</td>\n",
       "      <td>201072</td>\n",
       "      <td>테이트 남성 셀린니트3종</td>\n",
       "      <td>의류</td>\n",
       "      <td>39900</td>\n",
       "      <td>2099000.0</td>\n",
       "    </tr>\n",
       "    <tr>\n",
       "      <th>1</th>\n",
       "      <td>2019-01-01 06:00:00</td>\n",
       "      <td>NaN</td>\n",
       "      <td>100346</td>\n",
       "      <td>201079</td>\n",
       "      <td>테이트 여성 셀린니트3종</td>\n",
       "      <td>의류</td>\n",
       "      <td>39900</td>\n",
       "      <td>4371000.0</td>\n",
       "    </tr>\n",
       "    <tr>\n",
       "      <th>2</th>\n",
       "      <td>2019-01-01 06:20:00</td>\n",
       "      <td>20.0</td>\n",
       "      <td>100346</td>\n",
       "      <td>201072</td>\n",
       "      <td>테이트 남성 셀린니트3종</td>\n",
       "      <td>의류</td>\n",
       "      <td>39900</td>\n",
       "      <td>3262000.0</td>\n",
       "    </tr>\n",
       "    <tr>\n",
       "      <th>3</th>\n",
       "      <td>2019-01-01 06:20:00</td>\n",
       "      <td>NaN</td>\n",
       "      <td>100346</td>\n",
       "      <td>201079</td>\n",
       "      <td>테이트 여성 셀린니트3종</td>\n",
       "      <td>의류</td>\n",
       "      <td>39900</td>\n",
       "      <td>6955000.0</td>\n",
       "    </tr>\n",
       "    <tr>\n",
       "      <th>4</th>\n",
       "      <td>2019-01-01 06:40:00</td>\n",
       "      <td>20.0</td>\n",
       "      <td>100346</td>\n",
       "      <td>201072</td>\n",
       "      <td>테이트 남성 셀린니트3종</td>\n",
       "      <td>의류</td>\n",
       "      <td>39900</td>\n",
       "      <td>6672000.0</td>\n",
       "    </tr>\n",
       "  </tbody>\n",
       "</table>\n",
       "</div>"
      ],
      "text/plain": [
       "                 방송일시  노출(분)    마더코드    상품코드            상품명 상품군   판매단가  \\\n",
       "0 2019-01-01 06:00:00   20.0  100346  201072  테이트 남성 셀린니트3종  의류  39900   \n",
       "1 2019-01-01 06:00:00    NaN  100346  201079  테이트 여성 셀린니트3종  의류  39900   \n",
       "2 2019-01-01 06:20:00   20.0  100346  201072  테이트 남성 셀린니트3종  의류  39900   \n",
       "3 2019-01-01 06:20:00    NaN  100346  201079  테이트 여성 셀린니트3종  의류  39900   \n",
       "4 2019-01-01 06:40:00   20.0  100346  201072  테이트 남성 셀린니트3종  의류  39900   \n",
       "\n",
       "         취급액  \n",
       "0  2099000.0  \n",
       "1  4371000.0  \n",
       "2  3262000.0  \n",
       "3  6955000.0  \n",
       "4  6672000.0  "
      ]
     },
     "execution_count": 6,
     "metadata": {},
     "output_type": "execute_result"
    }
   ],
   "source": [
    "sales.head()"
   ]
  },
  {
   "cell_type": "markdown",
   "metadata": {},
   "source": [
    "pandas-profiling, 추후 특정 모델 한글 column 표시 안되므로 영문으로 변경"
   ]
  },
  {
   "cell_type": "code",
   "execution_count": 7,
   "metadata": {},
   "outputs": [],
   "source": [
    "test.columns=['datetime','duration','code_mother','code_product','product','category','price','totprice']\n",
    "sales.columns=['datetime','duration','code_mother','code_product','product','category','price','totprice']"
   ]
  },
  {
   "cell_type": "code",
   "execution_count": 8,
   "metadata": {},
   "outputs": [],
   "source": [
    "d = pd.Categorical(sales['category'], categories = ['주방','가전','의류','속옷','잡화','농수축','생활용품','가구','이미용','무형','건강기능','침구']) \n",
    "d.categories = [\"kitchen\",\"homeAppliance\",\"clothes\",\"underwear\",\"item\",\"agri\",\"dailyitem\",\"furniture\",\"beauty\",\"intangible\",\"health\",\"bedding\"]\n",
    "sales['category']=d"
   ]
  },
  {
   "cell_type": "code",
   "execution_count": 9,
   "metadata": {},
   "outputs": [],
   "source": [
    "# display(tvrates, sales)"
   ]
  },
  {
   "cell_type": "code",
   "execution_count": 10,
   "metadata": {},
   "outputs": [
    {
     "data": {
      "text/plain": [
       "datetime        datetime64[ns]\n",
       "duration               float64\n",
       "code_mother              int64\n",
       "code_product             int64\n",
       "product                 object\n",
       "category              category\n",
       "price                    int64\n",
       "totprice               float64\n",
       "dtype: object"
      ]
     },
     "metadata": {},
     "output_type": "display_data"
    },
    {
     "data": {
      "text/plain": [
       "(38309, 8)"
      ]
     },
     "metadata": {},
     "output_type": "display_data"
    },
    {
     "data": {
      "text/plain": [
       "시간대                          object\n",
       "2019-01-01                  float64\n",
       "2019-01-02                  float64\n",
       "2019-01-03                  float64\n",
       "2019-01-04                  float64\n",
       "                             ...   \n",
       "2019-12-28                  float64\n",
       "2019-12-29                  float64\n",
       "2019-12-30                  float64\n",
       "2019-12-31                  float64\n",
       "2019-01-01 to 2019-12-31    float64\n",
       "Length: 367, dtype: object"
      ]
     },
     "metadata": {},
     "output_type": "display_data"
    },
    {
     "data": {
      "text/plain": [
       "(1441, 367)"
      ]
     },
     "metadata": {},
     "output_type": "display_data"
    }
   ],
   "source": [
    "display(sales.dtypes, sales.shape, tvrates.dtypes, tvrates.shape )"
   ]
  },
  {
   "cell_type": "markdown",
   "metadata": {},
   "source": [
    "### 결측치 처리\n",
    "\n",
    "판매실적(sales) 데이터에서 동시 방송(노출)된 상품의 경우, 데이터상의 '노출(분)'이 생략되어 있다. 추후 시청률 데이터를 '방송일시' 및 '노출(분)'과의 연결을 위해 0으로 처리한다. "
   ]
  },
  {
   "cell_type": "code",
   "execution_count": 11,
   "metadata": {
    "scrolled": true
   },
   "outputs": [],
   "source": [
    "sales['duration'] =sales['duration'].fillna(0) \n",
    "# 좌측을 sales라고만 하면 안돼! "
   ]
  },
  {
   "cell_type": "code",
   "execution_count": 12,
   "metadata": {},
   "outputs": [],
   "source": [
    "# pd.DataFrame(sales)\n",
    "# # 결측치가 정상적으로 처리됨을 확인할 수 있다. "
   ]
  },
  {
   "cell_type": "markdown",
   "metadata": {},
   "source": [
    "### 변수 제거 및 생성\n"
   ]
  },
  {
   "cell_type": "markdown",
   "metadata": {},
   "source": [
    "#### 1-(1) sales row 제거\n",
    "무형 상품의 경우, 예측 불필요 > 제거 > 새로운 데이터셋인 sales1으로 저장"
   ]
  },
  {
   "cell_type": "code",
   "execution_count": 13,
   "metadata": {},
   "outputs": [],
   "source": [
    "sales = sales[sales['category'] != 'intangible']"
   ]
  },
  {
   "cell_type": "markdown",
   "metadata": {},
   "source": [
    "#### 1-(2) tvrates 마지막 row/col 제거 \n",
    "마지막 row는 각 일자별 분당 시청률 평균에 해당하므로 제거\n",
    "마지막 col은 각 시간별 분당 시청률 평균에 해당하므로 제거"
   ]
  },
  {
   "cell_type": "code",
   "execution_count": 14,
   "metadata": {},
   "outputs": [],
   "source": [
    "tvrates = tvrates.drop(1440)"
   ]
  },
  {
   "cell_type": "code",
   "execution_count": 15,
   "metadata": {},
   "outputs": [],
   "source": [
    "tvrates = tvrates.drop(columns = \"2019-01-01 to 2019-12-31\")"
   ]
  },
  {
   "cell_type": "code",
   "execution_count": 16,
   "metadata": {},
   "outputs": [],
   "source": [
    "# tvrates"
   ]
  },
  {
   "cell_type": "markdown",
   "metadata": {},
   "source": [
    "\n",
    "#### 2-(1) '방송일시'에서 가능한 변수들 우선 모두 추가하기. (나중에 중요도로 선택적 결정)"
   ]
  },
  {
   "cell_type": "code",
   "execution_count": 17,
   "metadata": {},
   "outputs": [],
   "source": [
    "sales['datetime'] = sales['datetime'].astype('datetime64')\n",
    "sales['weekday'] = sales['datetime'].dt.weekday # 0: Sunday, 6: Sat\n",
    "sales['time'] =  sales['datetime'].dt.time\n",
    "sales['month'] =  sales['datetime'].dt.month\n",
    "sales['date'] = sales['datetime'].dt.date       # 연, 월, 일"
   ]
  },
  {
   "cell_type": "markdown",
   "metadata": {},
   "source": [
    "#### 2-(2) 판매실적(sales) 데이터에 판매수량 column 추가 \n",
    "\n",
    "\n",
    "일반적 수식인 취급액 = 판매단가X주문량 사용. 이때, 소숫점은 다양한 할인/쿠폰 등의 사용으로 발생할 수 있음"
   ]
  },
  {
   "cell_type": "code",
   "execution_count": 18,
   "metadata": {},
   "outputs": [],
   "source": [
    "sales[\"quantitiy\"] = round(sales[\"totprice\"]/sales[\"price\"])"
   ]
  },
  {
   "cell_type": "markdown",
   "metadata": {},
   "source": [
    "#### 2-(3) tvrates의 각 방송시간별 시청률 평균만 sales에 추가하기 \n",
    "\n",
    "우선은 20분 간격이라고 가정\n",
    "<br>\n",
    "20분 단위로 시청률 묶어볼 것\n",
    "<br>\n",
    "노출시간이 20분이라고 하였을 때, 다음과 같이 전개가능하다. "
   ]
  },
  {
   "cell_type": "code",
   "execution_count": 19,
   "metadata": {
    "scrolled": true
   },
   "outputs": [],
   "source": [
    "# tvrates"
   ]
  },
  {
   "cell_type": "code",
   "execution_count": 20,
   "metadata": {},
   "outputs": [],
   "source": [
    "# index = []\n",
    "# for i in range(72):\n",
    "#     index += [i]*20"
   ]
  },
  {
   "cell_type": "code",
   "execution_count": 21,
   "metadata": {},
   "outputs": [],
   "source": [
    "# # index꼴 확인하기\n",
    "# index"
   ]
  },
  {
   "cell_type": "code",
   "execution_count": 22,
   "metadata": {},
   "outputs": [],
   "source": [
    "# tvrates['index'] = index"
   ]
  },
  {
   "cell_type": "code",
   "execution_count": 23,
   "metadata": {},
   "outputs": [],
   "source": [
    "# tvrates_temp = tvrates.drop('시간대', 1 )"
   ]
  },
  {
   "cell_type": "code",
   "execution_count": 24,
   "metadata": {
    "scrolled": true
   },
   "outputs": [],
   "source": [
    "# tvrates_temp.groupby('index').mean()"
   ]
  },
  {
   "cell_type": "markdown",
   "metadata": {},
   "source": [
    "### 그럼 이제 주어진 노출시간 이용하기  \n",
    "\n",
    "주어진 duration(노출시간)이 float64 > datetime과 바로 연산 불가"
   ]
  },
  {
   "cell_type": "code",
   "execution_count": 25,
   "metadata": {},
   "outputs": [
    {
     "data": {
      "text/plain": [
       "datetime        datetime64[ns]\n",
       "duration               float64\n",
       "code_mother              int64\n",
       "code_product             int64\n",
       "product                 object\n",
       "category              category\n",
       "price                    int64\n",
       "totprice               float64\n",
       "weekday                  int64\n",
       "time                    object\n",
       "month                    int64\n",
       "date                    object\n",
       "quantitiy              float64\n",
       "dtype: object"
      ]
     },
     "execution_count": 25,
     "metadata": {},
     "output_type": "execute_result"
    }
   ],
   "source": [
    "sales.dtypes"
   ]
  },
  {
   "cell_type": "code",
   "execution_count": 26,
   "metadata": {},
   "outputs": [],
   "source": [
    "# datetime > 절대량 timestamp > 수치화\n",
    "# timestamp > duration 분 더하기 ?"
   ]
  },
  {
   "cell_type": "code",
   "execution_count": 27,
   "metadata": {},
   "outputs": [],
   "source": [
    "sales['dur_min'] = pd.to_datetime(sales['duration'], format='%M').dt.time"
   ]
  },
  {
   "cell_type": "code",
   "execution_count": 28,
   "metadata": {},
   "outputs": [
    {
     "data": {
      "text/plain": [
       "datetime        datetime64[ns]\n",
       "duration               float64\n",
       "code_mother              int64\n",
       "code_product             int64\n",
       "product                 object\n",
       "category              category\n",
       "price                    int64\n",
       "totprice               float64\n",
       "weekday                  int64\n",
       "time                    object\n",
       "month                    int64\n",
       "date                    object\n",
       "quantitiy              float64\n",
       "dur_min                 object\n",
       "dtype: object"
      ]
     },
     "execution_count": 28,
     "metadata": {},
     "output_type": "execute_result"
    }
   ],
   "source": [
    "sales.dtypes"
   ]
  },
  {
   "cell_type": "code",
   "execution_count": 29,
   "metadata": {},
   "outputs": [
    {
     "data": {
      "text/plain": [
       "0        00:20:00\n",
       "1        00:00:00\n",
       "2        00:20:00\n",
       "3        00:00:00\n",
       "4        00:20:00\n",
       "           ...   \n",
       "38299    00:00:00\n",
       "38300    00:20:00\n",
       "38301    00:00:00\n",
       "38302    00:00:00\n",
       "38303    00:00:00\n",
       "Name: dur_min, Length: 37372, dtype: object"
      ]
     },
     "execution_count": 29,
     "metadata": {},
     "output_type": "execute_result"
    }
   ],
   "source": [
    "sales['dur_min']"
   ]
  },
  {
   "cell_type": "code",
   "execution_count": 30,
   "metadata": {},
   "outputs": [
    {
     "data": {
      "text/plain": [
       "(37372, 14)"
      ]
     },
     "execution_count": 30,
     "metadata": {},
     "output_type": "execute_result"
    }
   ],
   "source": [
    "# sales 행렬 크기 \n",
    "sales.shape"
   ]
  },
  {
   "cell_type": "code",
   "execution_count": 31,
   "metadata": {},
   "outputs": [],
   "source": [
    "# sales['datetime'] + sales['dur_min']"
   ]
  },
  {
   "cell_type": "code",
   "execution_count": 32,
   "metadata": {},
   "outputs": [],
   "source": [
    "# sd = sales[\"duration\"]\n",
    "# givendate = sales[\"datetime\"]"
   ]
  },
  {
   "cell_type": "code",
   "execution_count": 33,
   "metadata": {},
   "outputs": [],
   "source": [
    "# givendate"
   ]
  },
  {
   "cell_type": "code",
   "execution_count": 34,
   "metadata": {},
   "outputs": [],
   "source": [
    "# print( )"
   ]
  },
  {
   "cell_type": "code",
   "execution_count": 35,
   "metadata": {},
   "outputs": [],
   "source": [
    "# display(sd[1], givendate[1])"
   ]
  },
  {
   "cell_type": "code",
   "execution_count": 36,
   "metadata": {},
   "outputs": [],
   "source": [
    "# sales.shape[0] \n",
    "# # 37372 중 무형빼고 37372 남았다. "
   ]
  },
  {
   "cell_type": "code",
   "execution_count": 37,
   "metadata": {},
   "outputs": [],
   "source": [
    "# for i in range(37372):\n",
    "#     print(givendate[i])"
   ]
  },
  {
   "cell_type": "code",
   "execution_count": 38,
   "metadata": {},
   "outputs": [],
   "source": [
    "# for i in range(sales.shape[0]):\n",
    "#     print(sd[i])"
   ]
  },
  {
   "cell_type": "code",
   "execution_count": 39,
   "metadata": {
    "scrolled": true
   },
   "outputs": [],
   "source": [
    "# for i in range(sales.shape[0]):\n",
    "#     print(givendate[i] + timedelta(minutes = sd[i]))"
   ]
  },
  {
   "cell_type": "code",
   "execution_count": 40,
   "metadata": {},
   "outputs": [],
   "source": [
    "# sales['datetime'] "
   ]
  },
  {
   "cell_type": "code",
   "execution_count": 41,
   "metadata": {},
   "outputs": [],
   "source": [
    "# pd.DatetimeIndex(sales['datetime'])\n",
    "# pd.DatetimeIndex(sales['duration'])"
   ]
  },
  {
   "cell_type": "markdown",
   "metadata": {},
   "source": [
    "### Pandas Profiling \n",
    "(영훈) EDA이전 대략적인 추이 보기 좋음"
   ]
  },
  {
   "cell_type": "code",
   "execution_count": 42,
   "metadata": {},
   "outputs": [],
   "source": [
    "# pip install pandas-profiling"
   ]
  },
  {
   "cell_type": "code",
   "execution_count": 43,
   "metadata": {},
   "outputs": [],
   "source": [
    "# pip install https://github.com/pandas-profiling/pandas-profiling/archive/master.zip"
   ]
  },
  {
   "cell_type": "code",
   "execution_count": 44,
   "metadata": {},
   "outputs": [],
   "source": [
    "# import pandas_profiling as pp\n",
    "# pp.ProfileReport(sales)"
   ]
  },
  {
   "cell_type": "code",
   "execution_count": 45,
   "metadata": {},
   "outputs": [],
   "source": [
    "# sales.groupby(['code_mother', 'product'])['datetime'].unique().reset_index()"
   ]
  },
  {
   "cell_type": "markdown",
   "metadata": {},
   "source": [
    "### NLP\n",
    "\n",
    "#### 혹시 Komoran?\n",
    "역시나 사용불가 : 브랜드 및 상품명 인식 불가 "
   ]
  },
  {
   "cell_type": "code",
   "execution_count": 46,
   "metadata": {},
   "outputs": [],
   "source": [
    "# !pip install konlpy"
   ]
  },
  {
   "cell_type": "code",
   "execution_count": 47,
   "metadata": {},
   "outputs": [],
   "source": [
    "# from konlpy.tag import Komoran\n",
    "# komoran = Komoran() \n",
    "# komoran.morphs('오늘너무피곤해서지각을할뻔했습니다')\n",
    "\n",
    "# sales['kormoran_text'] = sales['product'].apply(lambda x:komoran.morphs(x))\n",
    "# sales\n"
   ]
  },
  {
   "cell_type": "markdown",
   "metadata": {},
   "source": [
    "#### 상품명 빈도수를 알아보자. \n",
    "주어진 데이터의 상품명은 띄어쓰기가 잘 되어있는 편이다. > Tokenizer\n",
    "<br/>\n",
    "\n",
    "##### Q.  tk.word_counts를 갯수 오름차순으로 보는 법 ,,,알고 싶다 "
   ]
  },
  {
   "cell_type": "code",
   "execution_count": null,
   "metadata": {},
   "outputs": [],
   "source": [
    "from keras.preprocessing.text import Tokenizer \n",
    "tk = Tokenizer()\n",
    "tk.fit_on_texts(list(sales['product']))"
   ]
  },
  {
   "cell_type": "code",
   "execution_count": null,
   "metadata": {},
   "outputs": [],
   "source": [
    "tk.word_counts"
   ]
  },
  {
   "cell_type": "code",
   "execution_count": null,
   "metadata": {},
   "outputs": [],
   "source": [
    "tk.word_index"
   ]
  },
  {
   "cell_type": "markdown",
   "metadata": {},
   "source": [
    " "
   ]
  },
  {
   "cell_type": "code",
   "execution_count": null,
   "metadata": {},
   "outputs": [],
   "source": [
    "howmuchaday = pd.DataFrame(sales.groupby('datetime').sum()['totprice'])"
   ]
  },
  {
   "cell_type": "code",
   "execution_count": null,
   "metadata": {},
   "outputs": [],
   "source": [
    "pd.DataFrame(howmuchaday['totprice'])"
   ]
  },
  {
   "cell_type": "code",
   "execution_count": null,
   "metadata": {},
   "outputs": [],
   "source": [
    "datetime','duration','code_mother','code_product','product','category','price','totprice']"
   ]
  },
  {
   "cell_type": "code",
   "execution_count": null,
   "metadata": {},
   "outputs": [],
   "source": [
    "sales.groupby('code_product')['price'].nunique().reset_index()"
   ]
  },
  {
   "cell_type": "code",
   "execution_count": null,
   "metadata": {},
   "outputs": [],
   "source": [
    "sales.nunique()"
   ]
  },
  {
   "cell_type": "code",
   "execution_count": null,
   "metadata": {},
   "outputs": [],
   "source": [
    "temp1 = sales.groupby(['code_mother','code_product'])['product'].unique().reset_index()\n",
    "temp1\n",
    "# 마더코드-상품코드 2123개"
   ]
  },
  {
   "cell_type": "code",
   "execution_count": null,
   "metadata": {},
   "outputs": [],
   "source": [
    "a = sales.groupby('category').sum()['totprice'].reset_index()\n",
    "a"
   ]
  },
  {
   "cell_type": "code",
   "execution_count": null,
   "metadata": {},
   "outputs": [],
   "source": [
    "# import matplotlib.pyplot as plt\n",
    "# import seaborn as sns\n",
    "# plt.figure(figsize = (20,12))\n",
    "# sns.boxplot(alldata['outcome'], alldata['bid_id'], showfliers = False) "
   ]
  },
  {
   "cell_type": "code",
   "execution_count": null,
   "metadata": {},
   "outputs": [],
   "source": [
    "# plt.figure(figsize = (20,12))\n",
    "# sns.boxplot(sales, hue = a['totprice'], showfliers = False) "
   ]
  },
  {
   "cell_type": "code",
   "execution_count": null,
   "metadata": {},
   "outputs": [],
   "source": [
    "sales"
   ]
  },
  {
   "cell_type": "code",
   "execution_count": null,
   "metadata": {},
   "outputs": [],
   "source": [
    "sales[\"wknd\"] \n",
    "if sales['weekday'] < 5 print(\"0\") else print(\"1\") "
   ]
  },
  {
   "cell_type": "code",
   "execution_count": null,
   "metadata": {},
   "outputs": [],
   "source": [
    "from datetime import date\n",
    "from workalendar.asia import SouthKorea"
   ]
  },
  {
   "cell_type": "code",
   "execution_count": null,
   "metadata": {},
   "outputs": [],
   "source": []
  },
  {
   "cell_type": "code",
   "execution_count": null,
   "metadata": {},
   "outputs": [],
   "source": [
    "sales.head(20)"
   ]
  },
  {
   "cell_type": "code",
   "execution_count": null,
   "metadata": {},
   "outputs": [],
   "source": []
  }
 ],
 "metadata": {
  "kernelspec": {
   "display_name": "Python 3",
   "language": "python",
   "name": "python3"
  },
  "language_info": {
   "codemirror_mode": {
    "name": "ipython",
    "version": 3
   },
   "file_extension": ".py",
   "mimetype": "text/x-python",
   "name": "python",
   "nbconvert_exporter": "python",
   "pygments_lexer": "ipython3",
   "version": "3.8.3"
  }
 },
 "nbformat": 4,
 "nbformat_minor": 4
}
